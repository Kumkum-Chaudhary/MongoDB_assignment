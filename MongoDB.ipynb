{
  "nbformat": 4,
  "nbformat_minor": 0,
  "metadata": {
    "colab": {
      "provenance": [],
      "toc_visible": true
    },
    "kernelspec": {
      "name": "python3",
      "display_name": "Python 3"
    },
    "language_info": {
      "name": "python"
    }
  },
  "cells": [
    {
      "cell_type": "code",
      "execution_count": 24,
      "metadata": {
        "id": "MUaNe7pnJw6g"
      },
      "outputs": [],
      "source": [
        "# 1. Key Differences Between SQL and NoSQL Databases\n",
        "\n",
        "# SQL :SQL databases are relational, storing structured data in tables with a predefined schema.\n",
        "#     They use SQL queries and follow ACID properties for data integrity, making them ideal for transactional applications.\n",
        "\n",
        "# NoSQL :NoSQL databases like MongoDB are non-relational, storing data as documents, key-value pairs, or graphs.\n",
        "#       They allow dynamic schemas, support horizontal scaling, and prioritize performance and flexibility, making them better suited for big data and real-time applications."
      ]
    },
    {
      "cell_type": "code",
      "source": [
        "# 2. Why MongoDB is a Good Choice for Modern Applications\n",
        "\n",
        "# MongoDB is designed to handle the evolving needs of modern applications with the following benefits:\n",
        "\n",
        "# Schema Flexibility: Allows dynamic and evolving data structures without schema constraints.\n",
        "# Scalability: Supports horizontal scaling through sharding, making it efficient for large-scale applications.\n",
        "# High Performance: Uses indexes and in-memory computing to speed up read/write operations.\n",
        "# JSON-like Documents: Stores data in a BSON (Binary JSON) format, making it easy to integrate with web and mobile apps.\n",
        "# Support for Distributed Systems: Ensures fault tolerance and high availability using replica sets.\n",
        "# Rich Querying Capabilities: Supports queries using filters, aggregations, and complex indexing strategies."
      ],
      "metadata": {
        "id": "2624dF1ZKZ9W"
      },
      "execution_count": 1,
      "outputs": []
    },
    {
      "cell_type": "code",
      "source": [
        "# 3. Concept of Collections in MongoDB\n",
        "\n",
        "# A collection is a group of documents in MongoDB, similar to tables in relational databases.\n",
        "# Collections do not enforce a fixed schema, allowing documents within the same collection to have different structures.\n",
        "\n",
        "# {\n",
        "#   \"_id\": 1,\n",
        "#   \"name\": \"Alice\",\n",
        "#   \"age\": 25,\n",
        "#   \"skills\": [\"Python\", \"Machine Learning\"]\n",
        "# }\n",
        "# In SQL, this would be a table row, but MongoDB allows storing nested data within a document."
      ],
      "metadata": {
        "id": "xmeIcuNHKZ_a"
      },
      "execution_count": 2,
      "outputs": []
    },
    {
      "cell_type": "code",
      "source": [
        "# 4. How MongoDB Ensures High Availability via Replication\n",
        "\n",
        "# Replica Sets ensure data availability and fault tolerance.\n",
        "# A replica set consists of:\n",
        "# Primary Node: Handles write and read operations.\n",
        "# Secondary Nodes: Syncs data from the primary and can take over in case of failure.\n",
        "# Arbiter (Optional): Helps elect a new primary but does not store data.\n",
        "# If the primary node fails, MongoDB automatically elects a new primary, ensuring availability."
      ],
      "metadata": {
        "id": "yPEaMKExKaBl"
      },
      "execution_count": 3,
      "outputs": []
    },
    {
      "cell_type": "code",
      "source": [
        "# 5. Benefits of MongoDB Atlas\n",
        "# MongoDB Atlas is a cloud-based managed database service that provides:\n",
        "\n",
        "# Automated Scaling: Adjusts storage and compute resources dynamically.\n",
        "# Built-in Security: Includes encryption, authentication, and network isolation.\n",
        "# High Availability: Deploys databases across multiple regions and ensures replication.\n",
        "# Performance Monitoring: Real-time insights into database performance.\n",
        "# Automatic Backups: Enables point-in-time recovery and disaster recovery."
      ],
      "metadata": {
        "id": "DhPHjdVDKaDu"
      },
      "execution_count": 4,
      "outputs": []
    },
    {
      "cell_type": "code",
      "source": [
        "# 6. Role of Indexes & How They Improve Performance\n",
        "\n",
        "# Indexes speed up query execution by creating efficient data structures for lookup operations.\n",
        "\n",
        "# Without indexes, MongoDB must scan the entire collection to find matching documents.\n",
        "# Types of indexes:\n",
        "# Single Field Index: Improves searches on one field.\n",
        "# Compound Index: Optimizes searches on multiple fields.\n",
        "# Text Index: Supports full-text searches.\n",
        "# Geospatial Index: Enables location-based queries."
      ],
      "metadata": {
        "id": "LIFtkEXBKaGr"
      },
      "execution_count": 5,
      "outputs": []
    },
    {
      "cell_type": "code",
      "source": [
        "# 7. Stages of the MongoDB Aggregation Pipeline\n",
        "\n",
        "# Aggregation pipeline processes documents in stages, such as:\n",
        "\n",
        "# $match - Filters documents based on conditions (like SQL WHERE).\n",
        "# $group - Groups documents by a field (like SQL GROUP BY).\n",
        "# $sort - Sorts documents in ascending or descending order.\n",
        "# $project - Selects specific fields to include in output.\n",
        "# $lookup - Performs joins across collections.\n",
        "# $limit - Restricts the number of documents in output.\n",
        "# $unwind - Deconstructs an array field into separate documents."
      ],
      "metadata": {
        "id": "PpD7AcdLKaKO"
      },
      "execution_count": 6,
      "outputs": []
    },
    {
      "cell_type": "code",
      "source": [
        "# 8. Sharding vs. Replication in MongoDB\n",
        "\n",
        "# Sharding distributes data across multiple servers to handle large datasets.\n",
        "# Replication maintains copies of data across multiple nodes for high availability.\n",
        "# Sharding improves read/write scalability, whereas replication ensures data redundancy."
      ],
      "metadata": {
        "id": "jdL9k2fsLZ3_"
      },
      "execution_count": 7,
      "outputs": []
    },
    {
      "cell_type": "code",
      "source": [
        "# 9. What is PyMongo & Why is it Used?\n",
        "\n",
        "# PyMongo is a Python driver for MongoDB, allowing Python applications to interact with MongoDB.\n",
        "# It supports CRUD operations, indexing, aggregation, and transactions."
      ],
      "metadata": {
        "id": "RWhCzPowLbHc"
      },
      "execution_count": 8,
      "outputs": []
    },
    {
      "cell_type": "code",
      "source": [
        "# 10. ACID Properties in MongoDB Transactions\n",
        "\n",
        "# Atomicity: Transactions execute completely or not at all.\n",
        "# Consistency: Ensures data integrity across operations.\n",
        "# Isolation: Transactions do not interfere with each other.\n",
        "# Durability: Changes persist even after a system failure."
      ],
      "metadata": {
        "id": "_SEbiKWiLbJk"
      },
      "execution_count": 9,
      "outputs": []
    },
    {
      "cell_type": "code",
      "source": [
        "# 11. Purpose of explain() in MongoDB\n",
        "\n",
        "# The explain() function provides details about query execution plans to optimize performance.\n",
        "\n",
        "# db.users.find({ age: 25 }).explain(\"executionStats\");\n"
      ],
      "metadata": {
        "id": "2P9zbprRLbLs"
      },
      "execution_count": 11,
      "outputs": []
    },
    {
      "cell_type": "code",
      "source": [
        "# 12. How MongoDB Handles Schema Validation\n",
        "\n",
        "# Uses JSON Schema validation to enforce document structure.\n",
        "\n",
        "# db.createCollection(\"users\", {\n",
        "#   validator: { $jsonSchema: { required: [\"name\", \"email\"] } }\n",
        "# });\n"
      ],
      "metadata": {
        "id": "dfStp1Q9LbN6"
      },
      "execution_count": 12,
      "outputs": []
    },
    {
      "cell_type": "code",
      "source": [
        "# 13. Difference Between Primary & Secondary Nodes\n",
        "\n",
        "# Primary: Accepts writes, updates secondaries.\n",
        "# Secondary: Maintains a copy, used for read operations and failover."
      ],
      "metadata": {
        "id": "m_UctIqjLbQB"
      },
      "execution_count": 13,
      "outputs": []
    },
    {
      "cell_type": "code",
      "source": [
        "# 14. Security Mechanisms in MongoDB\n",
        "\n",
        "# Authentication: Enforces user login.\n",
        "# Authorization: Uses role-based access control (RBAC).\n",
        "# Encryption: Protects data at rest and in transit.\n",
        "# IP Whitelisting: Restricts access to trusted IPs."
      ],
      "metadata": {
        "id": "ZmdPGMrSLbTe"
      },
      "execution_count": 14,
      "outputs": []
    },
    {
      "cell_type": "code",
      "source": [
        "# 15. Embedded Documents & When to Use Them\n",
        "\n",
        "# Nested documents store related data within a single document.\n",
        "# Used When: Data is frequently accessed together."
      ],
      "metadata": {
        "id": "wnjQBKs3MAJe"
      },
      "execution_count": 15,
      "outputs": []
    },
    {
      "cell_type": "code",
      "source": [
        "# 16. Purpose of $lookup in Aggregation\n",
        "# Performs JOIN-like operations between collections."
      ],
      "metadata": {
        "id": "DEz8nfIRMFE6"
      },
      "execution_count": 16,
      "outputs": []
    },
    {
      "cell_type": "code",
      "source": [
        "# 17. Common Use Cases for MongoDB\n",
        "\n",
        "# E-commerce: Product catalogs.\n",
        "# IoT: Storing sensor data.\n",
        "# Finance: Fraud detection."
      ],
      "metadata": {
        "id": "SEs27A61MIur"
      },
      "execution_count": 17,
      "outputs": []
    },
    {
      "cell_type": "code",
      "source": [
        "# 18. Advantages of Horizontal Scaling in MongoDB\n",
        "\n",
        "# Uses sharding to distribute data.\n",
        "# Handles large datasets efficiently."
      ],
      "metadata": {
        "id": "HoYjeNOQMQJb"
      },
      "execution_count": 18,
      "outputs": []
    },
    {
      "cell_type": "code",
      "source": [
        "# 19. Differences Between MongoDB & SQL Transactions\n",
        "\n",
        "# MongoDB supports multi-document transactions, but SQL is optimized for table-based transactions."
      ],
      "metadata": {
        "id": "QkNX1VUzMVjQ"
      },
      "execution_count": 19,
      "outputs": []
    },
    {
      "cell_type": "code",
      "source": [
        "# 20. Capped Collections vs. Regular Collections\n",
        "\n",
        "# Capped: Fixed-size, auto-deletes old data.\n",
        "# Regular: Unlimited size, requires manual deletion."
      ],
      "metadata": {
        "id": "eJ7xaKfnMaBm"
      },
      "execution_count": 20,
      "outputs": []
    },
    {
      "cell_type": "code",
      "source": [
        "# 21. Purpose of $match in Aggregation\n",
        "\n",
        "# Filters documents based on conditions, improving query efficiency."
      ],
      "metadata": {
        "id": "pd0T7DhkMfuf"
      },
      "execution_count": 21,
      "outputs": []
    },
    {
      "cell_type": "code",
      "source": [
        "# 22. How to Secure Access to MongoDB\n",
        "\n",
        "# Use authentication, RBAC, and TLS/SSL"
      ],
      "metadata": {
        "id": "CeJ2eheBMjHr"
      },
      "execution_count": 22,
      "outputs": []
    },
    {
      "cell_type": "code",
      "source": [
        "# 23. What is WiredTiger & Why is It Important?\n",
        "\n",
        "# Default storage engine in MongoDB.\n",
        "# Supports compression, concurrency control, and caching."
      ],
      "metadata": {
        "id": "t5p0aP0rMplX"
      },
      "execution_count": 23,
      "outputs": []
    },
    {
      "cell_type": "code",
      "source": [],
      "metadata": {
        "id": "Dwu9hPYHMuhp"
      },
      "execution_count": null,
      "outputs": []
    }
  ]
}